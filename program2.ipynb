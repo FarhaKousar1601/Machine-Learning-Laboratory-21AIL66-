{
 "cells": [
  {
   "cell_type": "markdown",
   "id": "e1fded58",
   "metadata": {
    "papermill": {
     "duration": 0.002442,
     "end_time": "2024-07-21T16:45:51.237614",
     "exception": false,
     "start_time": "2024-07-21T16:45:51.235172",
     "status": "completed"
    },
    "tags": []
   },
   "source": [
    "**2.Aim: Demonstrate the working model and principle of candidate elimination algorithm. Program: For a given set of training data examples stored in a .CSV file, implement and demonstrate the Candidate-Elimination algorithm to output a description of the set of all hypotheses consistent with the training examples.**"
   ]
  },
  {
   "cell_type": "code",
   "execution_count": 1,
   "id": "7da4fedd",
   "metadata": {
    "execution": {
     "iopub.execute_input": "2024-07-21T16:45:51.243907Z",
     "iopub.status.busy": "2024-07-21T16:45:51.243348Z",
     "iopub.status.idle": "2024-07-21T16:45:51.276830Z",
     "shell.execute_reply": "2024-07-21T16:45:51.275030Z"
    },
    "papermill": {
     "duration": 0.041262,
     "end_time": "2024-07-21T16:45:51.280938",
     "exception": false,
     "start_time": "2024-07-21T16:45:51.239676",
     "status": "completed"
    },
    "tags": []
   },
   "outputs": [
    {
     "name": "stdout",
     "output_type": "stream",
     "text": [
      "Steps of Candidate Elimination Algorithm 1\n",
      "[]\n",
      "[]\n",
      "Steps of Candidate Elimination Algorithm 2\n",
      "[]\n",
      "[]\n",
      "Steps of Candidate Elimination Algorithm 3\n",
      "[]\n",
      "[]\n",
      "Steps of Candidate Elimination Algorithm 4\n",
      "[]\n",
      "[]\n",
      "Steps of Candidate Elimination Algorithm 5\n",
      "[]\n",
      "[]\n",
      "\n",
      "Final specific hypothesis:\n",
      " []\n",
      "\n",
      "Final general hypothesis:\n",
      " []\n"
     ]
    }
   ],
   "source": [
    "import csv\n",
    "\n",
    "# Opens the CSV file \"tennis.csv\" and reads its contents\n",
    "with open(\"/kaggle/input/tennis-csv/tennis.csv\") as f:\n",
    "    csv_file = csv.reader(f)\n",
    "    data = list(csv_file)\n",
    "\n",
    "# Initializes the specific hypothesis 's' and the general hypothesis 'gh'\n",
    "s = ['?' for _ in range(len(data[0])-1)]\n",
    "gh = [['?' for _ in range(len(s))] for _ in range(len(s))]\n",
    "\n",
    "# Iterates through each data instance in 'data'\n",
    "for instance in data:\n",
    "    # Checks if the last attribute of the instance is \"Yes\"\n",
    "    if instance[-1] == \"Yes\":\n",
    "        # Updates 's' and 'gh' based on positive instance\n",
    "        for j in range(len(s)):\n",
    "            if instance[j] != s[j] and s[j] == '?':\n",
    "                s[j] = instance[j]\n",
    "            elif instance[j] != s[j] and s[j] != '?':\n",
    "                s[j] = '?'\n",
    "    elif instance[-1] == \"No\":\n",
    "        # Updates 'gh' based on negative instance\n",
    "        for j in range(len(s)):\n",
    "            if instance[j] != s[j]:\n",
    "                gh[j][j] = s[j]\n",
    "            else:\n",
    "                gh[j][j] = '?'\n",
    "\n",
    "    # Prints the steps of the Candidate Elimination Algorithm\n",
    "    print(\"Steps of Candidate Elimination Algorithm\", data.index(instance) + 1)\n",
    "    print(s)\n",
    "    print(gh)\n",
    "\n",
    "    # Removes inconsistent hypotheses from 'gh'\n",
    "    g = []\n",
    "    for i in gh:\n",
    "        if i not in g:\n",
    "            g.append(i)\n",
    "\n",
    "    # Ends the loop if 's' becomes the final hypothesis\n",
    "    if len(g) == 1:\n",
    "        break\n",
    "\n",
    "# Prints the final specific and general hypotheses\n",
    "print(\"\\nFinal specific hypothesis:\\n\", s)\n",
    "print(\"\\nFinal general hypothesis:\\n\", g)\n"
   ]
  }
 ],
 "metadata": {
  "kaggle": {
   "accelerator": "none",
   "dataSources": [
    {
     "datasetId": 5405088,
     "sourceId": 8976764,
     "sourceType": "datasetVersion"
    }
   ],
   "dockerImageVersionId": 30746,
   "isGpuEnabled": false,
   "isInternetEnabled": true,
   "language": "python",
   "sourceType": "notebook"
  },
  "kernelspec": {
   "display_name": "Python 3",
   "language": "python",
   "name": "python3"
  },
  "language_info": {
   "codemirror_mode": {
    "name": "ipython",
    "version": 3
   },
   "file_extension": ".py",
   "mimetype": "text/x-python",
   "name": "python",
   "nbconvert_exporter": "python",
   "pygments_lexer": "ipython3",
   "version": "3.10.13"
  },
  "papermill": {
   "default_parameters": {},
   "duration": 3.452149,
   "end_time": "2024-07-21T16:45:51.705493",
   "environment_variables": {},
   "exception": null,
   "input_path": "__notebook__.ipynb",
   "output_path": "__notebook__.ipynb",
   "parameters": {},
   "start_time": "2024-07-21T16:45:48.253344",
   "version": "2.5.0"
  }
 },
 "nbformat": 4,
 "nbformat_minor": 5
}
