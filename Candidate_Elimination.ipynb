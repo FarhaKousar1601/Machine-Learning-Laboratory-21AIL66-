{
 "cells": [
  {
   "cell_type": "code",
   "execution_count": 1,
   "id": "5b3cf8cb",
   "metadata": {
    "_cell_guid": "b1076dfc-b9ad-4769-8c92-a6c4dae69d19",
    "_uuid": "8f2839f25d086af736a60e9eeb907d3b93b6e0e5",
    "execution": {
     "iopub.execute_input": "2024-08-01T09:59:13.700244Z",
     "iopub.status.busy": "2024-08-01T09:59:13.699259Z",
     "iopub.status.idle": "2024-08-01T09:59:13.720744Z",
     "shell.execute_reply": "2024-08-01T09:59:13.719746Z"
    },
    "papermill": {
     "duration": 0.027829,
     "end_time": "2024-08-01T09:59:13.723541",
     "exception": false,
     "start_time": "2024-08-01T09:59:13.695712",
     "status": "completed"
    },
    "tags": []
   },
   "outputs": [
    {
     "name": "stdout",
     "output_type": "stream",
     "text": [
      "\n",
      "Steps of Candidate Elimination Algorithm, training instance 2\n",
      "S: ['sunny', 'warm', 'normal', 'strong', 'warm', 'same']\n",
      "G: [['?', '?', '?', '?', '?', '?'], ['?', '?', '?', '?', '?', '?'], ['?', '?', '?', '?', '?', '?'], ['?', '?', '?', '?', '?', '?'], ['?', '?', '?', '?', '?', '?'], ['?', '?', '?', '?', '?', '?']]\n",
      "\n",
      "Steps of Candidate Elimination Algorithm, training instance 3\n",
      "S: ['sunny', 'warm', 'normal', 'strong', 'warm', 'same']\n",
      "G: [['?', '?', '?', '?', '?', '?'], ['?', '?', '?', '?', '?', '?'], ['?', '?', '?', '?', '?', '?'], ['?', '?', '?', '?', '?', '?'], ['?', '?', '?', '?', '?', '?'], ['?', '?', '?', '?', '?', '?']]\n",
      "\n",
      "Steps of Candidate Elimination Algorithm, training instance 4\n",
      "S: ['sunny', 'warm', 'normal', 'strong', 'warm', 'same']\n",
      "G: [['?', '?', '?', '?', '?', '?'], ['?', '?', '?', '?', '?', '?'], ['?', '?', '?', '?', '?', '?'], ['?', '?', '?', '?', '?', '?'], ['?', '?', '?', '?', '?', '?'], ['?', '?', '?', '?', '?', '?']]\n",
      "\n",
      "Steps of Candidate Elimination Algorithm, training instance 5\n",
      "S: ['sunny', 'warm', 'normal', 'strong', 'warm', 'same']\n",
      "G: [['?', '?', '?', '?', '?', '?'], ['?', '?', '?', '?', '?', '?'], ['?', '?', '?', '?', '?', '?'], ['?', '?', '?', '?', '?', '?'], ['?', '?', '?', '?', '?', '?'], ['?', '?', '?', '?', '?', '?']]\n",
      "\n",
      "Final specific hypothesis:\n",
      " ['sunny', 'warm', 'normal', 'strong', 'warm', 'same']\n",
      "\n",
      "Final general hypothesis:\n",
      " []\n"
     ]
    }
   ],
   "source": [
    "import csv\n",
    "\n",
    "# Load data from CSV file\n",
    "with open('/kaggle/input/enjoysport-csv/enjoysport.csv') as f:\n",
    "    csv_file = csv.reader(f)\n",
    "    data = list(csv_file)\n",
    "\n",
    "# Initialize S and G\n",
    "s = data[1][:-1]\n",
    "g = [['?' for _ in range(len(s))] for _ in range(len(s))]\n",
    "\n",
    "# Process each training instance\n",
    "for i in data[1:]:\n",
    "    if i[-1] == \"Yes\":\n",
    "        for j in range(len(s)):\n",
    "            if i[j] != s[j]:\n",
    "                s[j] = '?'\n",
    "                g[j][j] = '?'\n",
    "    elif i[-1] == \"No\":\n",
    "        for j in range(len(s)):\n",
    "            if i[j] != s[j]:\n",
    "                g[j][j] = s[j]\n",
    "            else:\n",
    "                g[j][j] = '?'\n",
    "    \n",
    "    # Print the current hypotheses\n",
    "    print(f\"\\nSteps of Candidate Elimination Algorithm, training instance {data.index(i) + 1}\")\n",
    "    print(\"S:\", s)\n",
    "    print(\"G:\", g)\n",
    "\n",
    "# Collect and print final general hypotheses\n",
    "gh = [i for i in g if any(j != '?' for j in i)]\n",
    "\n",
    "print(\"\\nFinal specific hypothesis:\\n\", s)\n",
    "print(\"\\nFinal general hypothesis:\\n\", gh)\n"
   ]
  }
 ],
 "metadata": {
  "kaggle": {
   "accelerator": "none",
   "dataSources": [
    {
     "datasetId": 5477690,
     "sourceId": 9079671,
     "sourceType": "datasetVersion"
    }
   ],
   "dockerImageVersionId": 30746,
   "isGpuEnabled": false,
   "isInternetEnabled": true,
   "language": "python",
   "sourceType": "notebook"
  },
  "kernelspec": {
   "display_name": "Python 3",
   "language": "python",
   "name": "python3"
  },
  "language_info": {
   "codemirror_mode": {
    "name": "ipython",
    "version": 3
   },
   "file_extension": ".py",
   "mimetype": "text/x-python",
   "name": "python",
   "nbconvert_exporter": "python",
   "pygments_lexer": "ipython3",
   "version": "3.10.13"
  },
  "papermill": {
   "default_parameters": {},
   "duration": 2.95831,
   "end_time": "2024-08-01T09:59:14.044536",
   "environment_variables": {},
   "exception": null,
   "input_path": "__notebook__.ipynb",
   "output_path": "__notebook__.ipynb",
   "parameters": {},
   "start_time": "2024-08-01T09:59:11.086226",
   "version": "2.5.0"
  }
 },
 "nbformat": 4,
 "nbformat_minor": 5
}
