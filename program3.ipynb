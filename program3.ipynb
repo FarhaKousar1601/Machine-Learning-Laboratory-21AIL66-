{
 "cells": [
  {
   "cell_type": "markdown",
   "id": "9a44e3aa",
   "metadata": {
    "papermill": {
     "duration": 0.002553,
     "end_time": "2024-07-21T16:49:30.098649",
     "exception": false,
     "start_time": "2024-07-21T16:49:30.096096",
     "status": "completed"
    },
    "tags": []
   },
   "source": [
    "**3)Aim: To construct the Decision tree using the training data sets under supervised learning concept. Program: Write a program to demonstrate the working of the decision tree based ID3 algorithm. Use an appropriate data set for building the decision tree and apply this knowledge to classify a new sample**"
   ]
  },
  {
   "cell_type": "code",
   "execution_count": 1,
   "id": "815ba59f",
   "metadata": {
    "execution": {
     "iopub.execute_input": "2024-07-21T16:49:30.106000Z",
     "iopub.status.busy": "2024-07-21T16:49:30.105482Z",
     "iopub.status.idle": "2024-07-21T16:49:31.166308Z",
     "shell.execute_reply": "2024-07-21T16:49:31.165149Z"
    },
    "papermill": {
     "duration": 1.067837,
     "end_time": "2024-07-21T16:49:31.169127",
     "exception": false,
     "start_time": "2024-07-21T16:49:30.101290",
     "status": "completed"
    },
    "tags": []
   },
   "outputs": [
    {
     "name": "stdout",
     "output_type": "stream",
     "text": [
      "Constructed Decision Tree:\n",
      "{'Outlook': {'Overcast': 'Yes', 'Rain': {'Wind': {'Strong': 'No', 'Weak': 'Yes'}}, 'Sunny': {'Humidity': {'High': 'No', 'Normal': 'Yes'}}}}\n",
      "\n",
      "Classification Result for the Sample:\n",
      "No\n"
     ]
    }
   ],
   "source": [
    "import numpy as np\n",
    "import pandas as pd\n",
    "from collections import Counter\n",
    "\n",
    "# Defining the dataset\n",
    "data = [\n",
    "    [\"Outlook\", \"Temperature\", \"Humidity\", \"Wind\", \"PlayTennis\"],\n",
    "    [\"Sunny\", \"Hot\", \"High\", \"Weak\", \"No\"],\n",
    "    [\"Sunny\", \"Hot\", \"High\", \"Strong\", \"No\"],\n",
    "    [\"Overcast\", \"Hot\", \"High\", \"Weak\", \"Yes\"],\n",
    "    [\"Rain\", \"Mild\", \"High\", \"Weak\", \"Yes\"],\n",
    "    [\"Rain\", \"Cool\", \"Normal\", \"Weak\", \"Yes\"],\n",
    "    [\"Rain\", \"Cool\", \"Normal\", \"Strong\", \"No\"],\n",
    "    [\"Overcast\", \"Cool\", \"Normal\", \"Strong\", \"Yes\"],\n",
    "    [\"Sunny\", \"Mild\", \"High\", \"Weak\", \"No\"],\n",
    "    [\"Sunny\", \"Cool\", \"Normal\", \"Weak\", \"Yes\"],\n",
    "    [\"Rain\", \"Mild\", \"Normal\", \"Weak\", \"Yes\"],\n",
    "    [\"Sunny\", \"Mild\", \"Normal\", \"Strong\", \"Yes\"],\n",
    "    [\"Overcast\", \"Mild\", \"High\", \"Strong\", \"Yes\"],\n",
    "    [\"Overcast\", \"Hot\", \"Normal\", \"Weak\", \"Yes\"],\n",
    "    [\"Rain\", \"Mild\", \"High\", \"Strong\", \"No\"]\n",
    "]\n",
    "\n",
    "# Creating a DataFrame from the dataset\n",
    "df = pd.DataFrame(data[1:], columns=data[0])\n",
    "\n",
    "def entropy(target_col):\n",
    "    elements, counts = np.unique(target_col, return_counts=True)\n",
    "    entropy = np.sum([(-counts[i]/np.sum(counts)) * np.log2(counts[i]/np.sum(counts)) for i in range(len(elements))])\n",
    "    return entropy\n",
    "\n",
    "def information_gain(data, split_attribute, target_attribute):\n",
    "    total_entropy = entropy(data[target_attribute])\n",
    "    values, counts = np.unique(data[split_attribute], return_counts=True)\n",
    "    weighted_entropy = np.sum([(counts[i]/np.sum(counts)) * entropy(data[data[split_attribute] == values[i]][target_attribute]) for i in range(len(values))])\n",
    "    information_gain = total_entropy - weighted_entropy\n",
    "    return information_gain\n",
    "\n",
    "def ID3(data, original_data, features, target_attribute, parent_node_class=None):\n",
    "    if len(np.unique(data[target_attribute])) <= 1:\n",
    "        return np.unique(data[target_attribute])[0]\n",
    "    elif len(data) == 0:\n",
    "        return np.unique(original_data[target_attribute])[np.argmax(np.unique(original_data[target_attribute], return_counts=True)[1])]\n",
    "    elif len(features) == 0:\n",
    "        return parent_node_class\n",
    "    else:\n",
    "        parent_node_class = np.unique(data[target_attribute])[np.argmax(np.unique(data[target_attribute], return_counts=True)[1])]\n",
    "        item_values = [information_gain(data, feature, target_attribute) for feature in features]\n",
    "        best_feature_index = np.argmax(item_values)\n",
    "        best_feature = features[best_feature_index]\n",
    "        tree = {best_feature: {}}\n",
    "        features = [i for i in features if i != best_feature]\n",
    "        for value in np.unique(data[best_feature]):\n",
    "            value_sub_data = data[data[best_feature] == value]\n",
    "            subtree = ID3(value_sub_data, original_data, features, target_attribute, parent_node_class)\n",
    "            tree[best_feature][value] = subtree\n",
    "        return tree\n",
    "\n",
    "def classify(sample, tree):\n",
    "    for attribute in list(sample.keys()):\n",
    "        if attribute in tree.keys():\n",
    "            try:\n",
    "                result = tree[attribute][sample[attribute]]\n",
    "            except KeyError:\n",
    "                return None\n",
    "            if isinstance(result, dict):\n",
    "                return classify(sample, result)\n",
    "            else:\n",
    "                return result\n",
    "\n",
    "# List of features\n",
    "features = list(df.columns[:-1])\n",
    "\n",
    "# Target attribute\n",
    "target_attribute = df.columns[-1]\n",
    "\n",
    "# Constructing the decision tree\n",
    "decision_tree = ID3(df, df, features, target_attribute)\n",
    "\n",
    "# Sample to classify\n",
    "sample = {\n",
    "    \"Outlook\": \"Sunny\",\n",
    "    \"Temperature\": \"Cool\",\n",
    "    \"Humidity\": \"High\",\n",
    "    \"Wind\": \"Strong\"\n",
    "}\n",
    "\n",
    "# Classifying the sample\n",
    "classification_result = classify(sample, decision_tree)\n",
    "\n",
    "print(\"Constructed Decision Tree:\")\n",
    "print(decision_tree)\n",
    "\n",
    "print(\"\\nClassification Result for the Sample:\")\n",
    "print(classification_result)\n"
   ]
  }
 ],
 "metadata": {
  "kaggle": {
   "accelerator": "none",
   "dataSources": [],
   "dockerImageVersionId": 30746,
   "isGpuEnabled": false,
   "isInternetEnabled": true,
   "language": "python",
   "sourceType": "notebook"
  },
  "kernelspec": {
   "display_name": "Python 3",
   "language": "python",
   "name": "python3"
  },
  "language_info": {
   "codemirror_mode": {
    "name": "ipython",
    "version": 3
   },
   "file_extension": ".py",
   "mimetype": "text/x-python",
   "name": "python",
   "nbconvert_exporter": "python",
   "pygments_lexer": "ipython3",
   "version": "3.10.13"
  },
  "papermill": {
   "default_parameters": {},
   "duration": 4.65122,
   "end_time": "2024-07-21T16:49:31.692954",
   "environment_variables": {},
   "exception": null,
   "input_path": "__notebook__.ipynb",
   "output_path": "__notebook__.ipynb",
   "parameters": {},
   "start_time": "2024-07-21T16:49:27.041734",
   "version": "2.5.0"
  }
 },
 "nbformat": 4,
 "nbformat_minor": 5
}
