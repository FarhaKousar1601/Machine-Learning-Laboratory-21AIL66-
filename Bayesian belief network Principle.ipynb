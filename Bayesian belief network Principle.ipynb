{
 "cells": [
  {
   "cell_type": "markdown",
   "id": "938a2c62",
   "metadata": {
    "papermill": {
     "duration": 0.002428,
     "end_time": "2024-07-21T18:28:56.380650",
     "exception": false,
     "start_time": "2024-07-21T18:28:56.378222",
     "status": "completed"
    },
    "tags": []
   },
   "source": [
    "**6)Aim: Demonstrate and Analyse the results sets obtained from Bayesian belief network Principle. Program:- Write a program to construct a Bayesian network considering medical data. Use this model to demonstrate the diagnosis of heart patients using standard Heart Disease Data Set. You can use Python ML library classes/API.**"
   ]
  },
  {
   "cell_type": "code",
   "execution_count": 1,
   "id": "547613b1",
   "metadata": {
    "execution": {
     "iopub.execute_input": "2024-07-21T18:28:56.386295Z",
     "iopub.status.busy": "2024-07-21T18:28:56.385901Z",
     "iopub.status.idle": "2024-07-21T18:29:10.802399Z",
     "shell.execute_reply": "2024-07-21T18:29:10.800946Z"
    },
    "papermill": {
     "duration": 14.422076,
     "end_time": "2024-07-21T18:29:10.804868",
     "exception": false,
     "start_time": "2024-07-21T18:28:56.382792",
     "status": "completed"
    },
    "tags": []
   },
   "outputs": [
    {
     "name": "stdout",
     "output_type": "stream",
     "text": [
      "Requirement already satisfied: numpy in /opt/conda/lib/python3.10/site-packages (1.26.4)\r\n",
      "Requirement already satisfied: pandas in /opt/conda/lib/python3.10/site-packages (2.2.2)\r\n",
      "Collecting pgmpy\r\n",
      "  Downloading pgmpy-0.1.25-py3-none-any.whl.metadata (6.4 kB)\r\n",
      "Requirement already satisfied: python-dateutil>=2.8.2 in /opt/conda/lib/python3.10/site-packages (from pandas) (2.9.0.post0)\r\n",
      "Requirement already satisfied: pytz>=2020.1 in /opt/conda/lib/python3.10/site-packages (from pandas) (2023.3.post1)\r\n",
      "Requirement already satisfied: tzdata>=2022.7 in /opt/conda/lib/python3.10/site-packages (from pandas) (2023.4)\r\n",
      "Requirement already satisfied: networkx in /opt/conda/lib/python3.10/site-packages (from pgmpy) (3.2.1)\r\n",
      "Requirement already satisfied: scipy in /opt/conda/lib/python3.10/site-packages (from pgmpy) (1.11.4)\r\n",
      "Requirement already satisfied: scikit-learn in /opt/conda/lib/python3.10/site-packages (from pgmpy) (1.2.2)\r\n",
      "Requirement already satisfied: pyparsing in /opt/conda/lib/python3.10/site-packages (from pgmpy) (3.1.1)\r\n",
      "Requirement already satisfied: torch in /opt/conda/lib/python3.10/site-packages (from pgmpy) (2.1.2+cpu)\r\n",
      "Requirement already satisfied: statsmodels in /opt/conda/lib/python3.10/site-packages (from pgmpy) (0.14.1)\r\n",
      "Requirement already satisfied: tqdm in /opt/conda/lib/python3.10/site-packages (from pgmpy) (4.66.4)\r\n",
      "Requirement already satisfied: joblib in /opt/conda/lib/python3.10/site-packages (from pgmpy) (1.4.2)\r\n",
      "Requirement already satisfied: opt-einsum in /opt/conda/lib/python3.10/site-packages (from pgmpy) (3.3.0)\r\n",
      "Requirement already satisfied: six>=1.5 in /opt/conda/lib/python3.10/site-packages (from python-dateutil>=2.8.2->pandas) (1.16.0)\r\n",
      "Requirement already satisfied: threadpoolctl>=2.0.0 in /opt/conda/lib/python3.10/site-packages (from scikit-learn->pgmpy) (3.2.0)\r\n",
      "Requirement already satisfied: patsy>=0.5.4 in /opt/conda/lib/python3.10/site-packages (from statsmodels->pgmpy) (0.5.6)\r\n",
      "Requirement already satisfied: packaging>=21.3 in /opt/conda/lib/python3.10/site-packages (from statsmodels->pgmpy) (21.3)\r\n",
      "Requirement already satisfied: filelock in /opt/conda/lib/python3.10/site-packages (from torch->pgmpy) (3.13.1)\r\n",
      "Requirement already satisfied: typing-extensions in /opt/conda/lib/python3.10/site-packages (from torch->pgmpy) (4.9.0)\r\n",
      "Requirement already satisfied: sympy in /opt/conda/lib/python3.10/site-packages (from torch->pgmpy) (1.13.0)\r\n",
      "Requirement already satisfied: jinja2 in /opt/conda/lib/python3.10/site-packages (from torch->pgmpy) (3.1.2)\r\n",
      "Requirement already satisfied: fsspec in /opt/conda/lib/python3.10/site-packages (from torch->pgmpy) (2024.5.0)\r\n",
      "Requirement already satisfied: MarkupSafe>=2.0 in /opt/conda/lib/python3.10/site-packages (from jinja2->torch->pgmpy) (2.1.3)\r\n",
      "Requirement already satisfied: mpmath<1.4,>=1.1.0 in /opt/conda/lib/python3.10/site-packages (from sympy->torch->pgmpy) (1.3.0)\r\n",
      "Downloading pgmpy-0.1.25-py3-none-any.whl (2.0 MB)\r\n",
      "\u001b[2K   \u001b[90m━━━━━━━━━━━━━━━━━━━━━━━━━━━━━━━━━━━━━━━━\u001b[0m \u001b[32m2.0/2.0 MB\u001b[0m \u001b[31m20.4 MB/s\u001b[0m eta \u001b[36m0:00:00\u001b[0m\r\n",
      "\u001b[?25hInstalling collected packages: pgmpy\r\n",
      "Successfully installed pgmpy-0.1.25\r\n",
      "Note: you may need to restart the kernel to use updated packages.\n"
     ]
    }
   ],
   "source": [
    "pip install numpy pandas pgmpy"
   ]
  },
  {
   "cell_type": "code",
   "execution_count": 2,
   "id": "ebc6b632",
   "metadata": {
    "execution": {
     "iopub.execute_input": "2024-07-21T18:29:10.813026Z",
     "iopub.status.busy": "2024-07-21T18:29:10.812065Z",
     "iopub.status.idle": "2024-07-21T18:29:19.482367Z",
     "shell.execute_reply": "2024-07-21T18:29:19.481285Z"
    },
    "papermill": {
     "duration": 8.67744,
     "end_time": "2024-07-21T18:29:19.485274",
     "exception": false,
     "start_time": "2024-07-21T18:29:10.807834",
     "status": "completed"
    },
    "tags": []
   },
   "outputs": [
    {
     "name": "stdout",
     "output_type": "stream",
     "text": [
      "Sample instances from the dataset are given below:\n",
      "   age  gender  cp  trestbps  chol  fbs  restecg  thalach  exang  oldpeak  \\\n",
      "0   63       1   1       145   233    1        2      150      0      2.3   \n",
      "1   67       1   4       160   286    0        2      108      1      1.5   \n",
      "2   67       1   4       120   229    0        2      129      1      2.6   \n",
      "3   37       1   3       130   250    0        0      187      0      3.5   \n",
      "4   41       0   2       130   204    0        2      172      0      1.4   \n",
      "\n",
      "   slope ca thal  heartdisease  \n",
      "0      3  0    6             0  \n",
      "1      2  3    3             2  \n",
      "2      2  2    7             1  \n",
      "3      3  0    3             0  \n",
      "4      1  0    3             0  \n",
      "\n",
      "Attributes and datatypes:\n",
      "age               int64\n",
      "gender            int64\n",
      "cp                int64\n",
      "trestbps          int64\n",
      "chol              int64\n",
      "fbs               int64\n",
      "restecg           int64\n",
      "thalach           int64\n",
      "exang             int64\n",
      "oldpeak         float64\n",
      "slope             int64\n",
      "ca               object\n",
      "thal             object\n",
      "heartdisease      int64\n",
      "dtype: object\n",
      "\n",
      "Column names in the dataset:\n",
      "Index(['age', 'gender', 'cp', 'trestbps', 'chol', 'fbs', 'restecg', 'thalach',\n",
      "       'exang', 'oldpeak', 'slope', 'ca', 'thal', 'heartdisease'],\n",
      "      dtype='object')\n",
      "\n",
      "Learning CPD using Maximum likelihood estimators\n",
      "\n",
      "Inferencing with Bayesian Network:\n",
      "\n",
      "1. Probability of HeartDisease given evidence= restecg\n",
      "+-----------------+---------------------+\n",
      "| heartdisease    |   phi(heartdisease) |\n",
      "+=================+=====================+\n",
      "| heartdisease(0) |              0.1386 |\n",
      "+-----------------+---------------------+\n",
      "| heartdisease(1) |              0.0000 |\n",
      "+-----------------+---------------------+\n",
      "| heartdisease(2) |              0.2403 |\n",
      "+-----------------+---------------------+\n",
      "| heartdisease(3) |              0.2174 |\n",
      "+-----------------+---------------------+\n",
      "| heartdisease(4) |              0.4036 |\n",
      "+-----------------+---------------------+\n",
      "\n",
      "2. Probability of HeartDisease given evidence= cp\n",
      "+-----------------+---------------------+\n",
      "| heartdisease    |   phi(heartdisease) |\n",
      "+=================+=====================+\n",
      "| heartdisease(0) |              0.3791 |\n",
      "+-----------------+---------------------+\n",
      "| heartdisease(1) |              0.1944 |\n",
      "+-----------------+---------------------+\n",
      "| heartdisease(2) |              0.1533 |\n",
      "+-----------------+---------------------+\n",
      "| heartdisease(3) |              0.1355 |\n",
      "+-----------------+---------------------+\n",
      "| heartdisease(4) |              0.1377 |\n",
      "+-----------------+---------------------+\n"
     ]
    }
   ],
   "source": [
    "import numpy as np\n",
    "import pandas as pd\n",
    "from pgmpy.estimators import MaximumLikelihoodEstimator\n",
    "from pgmpy.models import BayesianModel\n",
    "from pgmpy.inference import VariableElimination\n",
    "\n",
    "# Load the dataset\n",
    "heartDisease = pd.read_csv('/kaggle/input/heart-disease-csv/heartdisease.csv')\n",
    "heartDisease = heartDisease.replace('?', np.nan)\n",
    "\n",
    "# Print sample instances and data types\n",
    "print('Sample instances from the dataset are given below:')\n",
    "print(heartDisease.head())\n",
    "\n",
    "print('\\nAttributes and datatypes:')\n",
    "print(heartDisease.dtypes)\n",
    "\n",
    "# Ensure the column names are correct\n",
    "print('\\nColumn names in the dataset:')\n",
    "print(heartDisease.columns)\n",
    "\n",
    "# Define the model structure with the correct column names\n",
    "model = BayesianModel([\n",
    "    ('age', 'heartdisease'),       # 'heartdisease' corresponds to the target variable\n",
    "    ('exang', 'heartdisease'),\n",
    "    ('cp', 'heartdisease'),\n",
    "    ('heartdisease', 'restecg'),\n",
    "    ('heartdisease', 'chol')\n",
    "])\n",
    "\n",
    "# Learning CPD using Maximum Likelihood Estimators\n",
    "print('\\nLearning CPD using Maximum likelihood estimators')\n",
    "model.fit(heartDisease, estimator=MaximumLikelihoodEstimator)\n",
    "\n",
    "# Inferencing with Bayesian Network\n",
    "print('\\nInferencing with Bayesian Network:')\n",
    "HeartDisease_infer = VariableElimination(model)\n",
    "\n",
    "# Queries\n",
    "print('\\n1. Probability of HeartDisease given evidence= restecg')\n",
    "q1 = HeartDisease_infer.query(variables=['heartdisease'], evidence={'restecg': 1})\n",
    "print(q1)\n",
    "\n",
    "print('\\n2. Probability of HeartDisease given evidence= cp')\n",
    "q2 = HeartDisease_infer.query(variables=['heartdisease'], evidence={'cp': 1})\n",
    "print(q2)\n"
   ]
  }
 ],
 "metadata": {
  "kaggle": {
   "accelerator": "none",
   "dataSources": [
    {
     "datasetId": 5424296,
     "sourceId": 9004019,
     "sourceType": "datasetVersion"
    }
   ],
   "dockerImageVersionId": 30746,
   "isGpuEnabled": false,
   "isInternetEnabled": true,
   "language": "python",
   "sourceType": "notebook"
  },
  "kernelspec": {
   "display_name": "Python 3",
   "language": "python",
   "name": "python3"
  },
  "language_info": {
   "codemirror_mode": {
    "name": "ipython",
    "version": 3
   },
   "file_extension": ".py",
   "mimetype": "text/x-python",
   "name": "python",
   "nbconvert_exporter": "python",
   "pygments_lexer": "ipython3",
   "version": "3.10.13"
  },
  "papermill": {
   "default_parameters": {},
   "duration": 27.002744,
   "end_time": "2024-07-21T18:29:20.611726",
   "environment_variables": {},
   "exception": null,
   "input_path": "__notebook__.ipynb",
   "output_path": "__notebook__.ipynb",
   "parameters": {},
   "start_time": "2024-07-21T18:28:53.608982",
   "version": "2.5.0"
  }
 },
 "nbformat": 4,
 "nbformat_minor": 5
}
