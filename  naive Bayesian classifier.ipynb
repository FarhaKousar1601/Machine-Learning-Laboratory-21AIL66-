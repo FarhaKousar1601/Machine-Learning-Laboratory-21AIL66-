{
 "cells": [
  {
   "cell_type": "markdown",
   "id": "4c54070c",
   "metadata": {
    "papermill": {
     "duration": 0.002108,
     "end_time": "2024-07-21T18:21:22.560873",
     "exception": false,
     "start_time": "2024-07-21T18:21:22.558765",
     "status": "completed"
    },
    "tags": []
   },
   "source": [
    "5)Aim: Demonstrate the text classifier using Naïve bayes classifier algorithm. Program: Write a program to implement the naive Bayesian classifier for a sample training data set stored as a .CSV file. Compute the accuracy of the classifier, considering few test data sets."
   ]
  },
  {
   "cell_type": "code",
   "execution_count": 1,
   "id": "9fd869f7",
   "metadata": {
    "execution": {
     "iopub.execute_input": "2024-07-21T18:21:22.565886Z",
     "iopub.status.busy": "2024-07-21T18:21:22.565488Z",
     "iopub.status.idle": "2024-07-21T18:21:24.724688Z",
     "shell.execute_reply": "2024-07-21T18:21:24.723559Z"
    },
    "papermill": {
     "duration": 2.164594,
     "end_time": "2024-07-21T18:21:24.727190",
     "exception": false,
     "start_time": "2024-07-21T18:21:22.562596",
     "status": "completed"
    },
    "tags": []
   },
   "outputs": [
    {
     "name": "stdout",
     "output_type": "stream",
     "text": [
      "<class 'pandas.core.frame.DataFrame'>\n",
      "RangeIndex: 150 entries, 0 to 149\n",
      "Data columns (total 6 columns):\n",
      " #   Column         Non-Null Count  Dtype  \n",
      "---  ------         --------------  -----  \n",
      " 0   Unnamed: 0     150 non-null    int64  \n",
      " 1   SepalLengthCm  150 non-null    object \n",
      " 2   SepalWidthCm   149 non-null    float64\n",
      " 3   PetalLengthCm  149 non-null    object \n",
      " 4   PetalWidthCm   150 non-null    float64\n",
      " 5   Species        149 non-null    object \n",
      "dtypes: float64(2), int64(1), object(3)\n",
      "memory usage: 7.2+ KB\n",
      "None\n",
      "   Unnamed: 0 SepalLengthCm  SepalWidthCm PetalLengthCm  PetalWidthCm  \\\n",
      "0           1           5.1           3.5           1.4           0.2   \n",
      "1           2           4.9           NaN           1.4           0.2   \n",
      "2           3           4.7           3.2           1.3           0.2   \n",
      "3           4            ??           3.1           1.5           0.2   \n",
      "4           5             5           3.6           ###           0.2   \n",
      "\n",
      "       Species  \n",
      "0  Iris-setosa  \n",
      "1          NaN  \n",
      "2  Iris-setosa  \n",
      "3  Iris-setosa  \n",
      "4  Iris-setosa  \n",
      "['Iris-setosa' nan 'Iris-versicolor' 'Iris-virginica']\n",
      "Accuracy: 93.33%\n"
     ]
    }
   ],
   "source": [
    "import pandas as pd\n",
    "import numpy as np\n",
    "from sklearn.model_selection import train_test_split\n",
    "from collections import defaultdict\n",
    "\n",
    "class NaiveBayesClassifier:\n",
    "    def __init__(self):\n",
    "        self.priors = {}\n",
    "        self.likelihoods = defaultdict(dict)\n",
    "\n",
    "    def fit(self, X, y):\n",
    "        self.classes = np.unique(y)\n",
    "        total_samples = len(y)\n",
    "\n",
    "        for cls in self.classes:\n",
    "            X_cls = X[y == cls]\n",
    "            self.priors[cls] = len(X_cls) / total_samples\n",
    "\n",
    "            for column in X.columns:\n",
    "                self.likelihoods[column][cls] = X_cls[column].value_counts(normalize=True).to_dict()\n",
    "\n",
    "    def predict(self, X):\n",
    "        results = []\n",
    "\n",
    "        for i in range(len(X)):\n",
    "            posteriors = {}\n",
    "\n",
    "            for cls in self.classes:\n",
    "                prior = np.log(self.priors[cls])\n",
    "                likelihood = sum(\n",
    "                    np.log(self.likelihoods[col].get(cls, {}).get(X.iloc[i][col], 1e-6))\n",
    "                    for col in X.columns\n",
    "                )\n",
    "                posteriors[cls] = prior + likelihood\n",
    "\n",
    "            results.append(max(posteriors, key=posteriors.get))\n",
    "\n",
    "        return results\n",
    "\n",
    "    def accuracy(self, y_true, y_pred):\n",
    "        return np.mean(np.array(y_true) == np.array(y_pred))\n",
    "\n",
    "# Load data from CSV file\n",
    "data = pd.read_csv('/kaggle/input/iris-dataset/Iris_data_sample.csv')\n",
    "\n",
    "# Inspect data for inconsistencies\n",
    "print(data.info())\n",
    "print(data.head())\n",
    "\n",
    "# Check for NaN values and data types in target column\n",
    "print(data.iloc[:, -1].unique())\n",
    "\n",
    "# Separate features and target variable\n",
    "X = data.iloc[:, :-1]\n",
    "y = data.iloc[:, -1]\n",
    "\n",
    "# Clean target variable to ensure consistent data type\n",
    "y = y.astype(str)\n",
    "\n",
    "# Split data into training and testing sets\n",
    "X_train, X_test, y_train, y_test = train_test_split(X, y, test_size=0.2, random_state=42)\n",
    "\n",
    "# Initialize and train the Naive Bayes Classifier\n",
    "nb_classifier = NaiveBayesClassifier()\n",
    "nb_classifier.fit(X_train, y_train)\n",
    "\n",
    "# Make predictions on the test set\n",
    "y_pred = nb_classifier.predict(X_test)\n",
    "\n",
    "# Compute the accuracy\n",
    "accuracy = nb_classifier.accuracy(y_test, y_pred)\n",
    "print(f'Accuracy: {accuracy * 100:.2f}%')\n"
   ]
  }
 ],
 "metadata": {
  "kaggle": {
   "accelerator": "none",
   "dataSources": [
    {
     "datasetId": 5367700,
     "sourceId": 8923926,
     "sourceType": "datasetVersion"
    }
   ],
   "dockerImageVersionId": 30746,
   "isGpuEnabled": false,
   "isInternetEnabled": true,
   "language": "python",
   "sourceType": "notebook"
  },
  "kernelspec": {
   "display_name": "Python 3",
   "language": "python",
   "name": "python3"
  },
  "language_info": {
   "codemirror_mode": {
    "name": "ipython",
    "version": 3
   },
   "file_extension": ".py",
   "mimetype": "text/x-python",
   "name": "python",
   "nbconvert_exporter": "python",
   "pygments_lexer": "ipython3",
   "version": "3.10.13"
  },
  "papermill": {
   "default_parameters": {},
   "duration": 5.475488,
   "end_time": "2024-07-21T18:21:25.249105",
   "environment_variables": {},
   "exception": null,
   "input_path": "__notebook__.ipynb",
   "output_path": "__notebook__.ipynb",
   "parameters": {},
   "start_time": "2024-07-21T18:21:19.773617",
   "version": "2.5.0"
  }
 },
 "nbformat": 4,
 "nbformat_minor": 5
}
