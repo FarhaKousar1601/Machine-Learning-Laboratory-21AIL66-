{
 "cells": [
  {
   "cell_type": "markdown",
   "id": "739e1301",
   "metadata": {
    "papermill": {
     "duration": 0.002575,
     "end_time": "2024-07-21T18:45:09.280269",
     "exception": false,
     "start_time": "2024-07-21T18:45:09.277694",
     "status": "completed"
    },
    "tags": []
   },
   "source": [
    "**8)Aim: Demonstrate and analyse the results of classification based on KNN Algorithm. Program: Write a program to implement k-Nearest Neighbour algorithm to classify the iris data set. Print both correct and wrong predictions. Java/Python ML library classes can be used for this problem.**"
   ]
  },
  {
   "cell_type": "code",
   "execution_count": 1,
   "id": "2475f658",
   "metadata": {
    "execution": {
     "iopub.execute_input": "2024-07-21T18:45:09.286394Z",
     "iopub.status.busy": "2024-07-21T18:45:09.285910Z",
     "iopub.status.idle": "2024-07-21T18:45:11.346976Z",
     "shell.execute_reply": "2024-07-21T18:45:11.345675Z"
    },
    "papermill": {
     "duration": 2.067371,
     "end_time": "2024-07-21T18:45:11.349877",
     "exception": false,
     "start_time": "2024-07-21T18:45:09.282506",
     "status": "completed"
    },
    "tags": []
   },
   "outputs": [
    {
     "name": "stdout",
     "output_type": "stream",
     "text": [
      "Accuracy: 1.0\n",
      "\n",
      "Correct predictions:\n",
      "Predicted: 1 Actual: 1\n",
      "Predicted: 0 Actual: 0\n",
      "Predicted: 2 Actual: 2\n",
      "Predicted: 1 Actual: 1\n",
      "Predicted: 1 Actual: 1\n",
      "Predicted: 0 Actual: 0\n",
      "Predicted: 1 Actual: 1\n",
      "Predicted: 2 Actual: 2\n",
      "Predicted: 1 Actual: 1\n",
      "Predicted: 1 Actual: 1\n",
      "Predicted: 2 Actual: 2\n",
      "Predicted: 0 Actual: 0\n",
      "Predicted: 0 Actual: 0\n",
      "Predicted: 0 Actual: 0\n",
      "Predicted: 0 Actual: 0\n",
      "Predicted: 1 Actual: 1\n",
      "Predicted: 2 Actual: 2\n",
      "Predicted: 1 Actual: 1\n",
      "Predicted: 1 Actual: 1\n",
      "Predicted: 2 Actual: 2\n",
      "Predicted: 0 Actual: 0\n",
      "Predicted: 2 Actual: 2\n",
      "Predicted: 0 Actual: 0\n",
      "Predicted: 2 Actual: 2\n",
      "Predicted: 2 Actual: 2\n",
      "Predicted: 2 Actual: 2\n",
      "Predicted: 2 Actual: 2\n",
      "Predicted: 2 Actual: 2\n",
      "Predicted: 0 Actual: 0\n",
      "Predicted: 0 Actual: 0\n",
      "Predicted: 0 Actual: 0\n",
      "Predicted: 0 Actual: 0\n",
      "Predicted: 1 Actual: 1\n",
      "Predicted: 0 Actual: 0\n",
      "Predicted: 0 Actual: 0\n",
      "Predicted: 2 Actual: 2\n",
      "Predicted: 1 Actual: 1\n",
      "Predicted: 0 Actual: 0\n",
      "Predicted: 0 Actual: 0\n",
      "Predicted: 0 Actual: 0\n",
      "Predicted: 2 Actual: 2\n",
      "Predicted: 1 Actual: 1\n",
      "Predicted: 1 Actual: 1\n",
      "Predicted: 0 Actual: 0\n",
      "Predicted: 0 Actual: 0\n",
      "\n",
      "Wrong predictions:\n"
     ]
    }
   ],
   "source": [
    "from sklearn.datasets import load_iris\n",
    "from sklearn.model_selection import train_test_split\n",
    "from sklearn.neighbors import KNeighborsClassifier\n",
    "from sklearn.metrics import accuracy_score\n",
    "\n",
    "# Load Iris dataset\n",
    "iris = load_iris()\n",
    "X = iris.data\n",
    "y = iris.target\n",
    "\n",
    "# Split dataset into training and testing sets\n",
    "X_train, X_test, y_train, y_test = train_test_split(X, y, test_size=0.3, random_state=42)\n",
    "\n",
    "# Initialize k-NN classifier\n",
    "knn = KNeighborsClassifier(n_neighbors=3)\n",
    "\n",
    "# Train the classifier\n",
    "knn.fit(X_train, y_train)\n",
    "\n",
    "# Predict the labels for test set\n",
    "y_pred = knn.predict(X_test)\n",
    "\n",
    "# Calculate accuracy\n",
    "accuracy = accuracy_score(y_test, y_pred)\n",
    "print(\"Accuracy:\", accuracy)\n",
    "\n",
    "# Print correct and wrong predictions\n",
    "print(\"\\nCorrect predictions:\")\n",
    "for i in range(len(y_test)):\n",
    "    if y_pred[i] == y_test[i]:\n",
    "        print(\"Predicted:\", y_pred[i], \"Actual:\", y_test[i])\n",
    "\n",
    "print(\"\\nWrong predictions:\")\n",
    "for i in range(len(y_test)):\n",
    "    if y_pred[i] != y_test[i]:\n",
    "        print(\"Predicted:\", y_pred[i], \"Actual:\", y_test[i])\n"
   ]
  }
 ],
 "metadata": {
  "kaggle": {
   "accelerator": "none",
   "dataSources": [],
   "dockerImageVersionId": 30746,
   "isGpuEnabled": false,
   "isInternetEnabled": true,
   "language": "python",
   "sourceType": "notebook"
  },
  "kernelspec": {
   "display_name": "Python 3",
   "language": "python",
   "name": "python3"
  },
  "language_info": {
   "codemirror_mode": {
    "name": "ipython",
    "version": 3
   },
   "file_extension": ".py",
   "mimetype": "text/x-python",
   "name": "python",
   "nbconvert_exporter": "python",
   "pygments_lexer": "ipython3",
   "version": "3.10.13"
  },
  "papermill": {
   "default_parameters": {},
   "duration": 5.877774,
   "end_time": "2024-07-21T18:45:11.873906",
   "environment_variables": {},
   "exception": null,
   "input_path": "__notebook__.ipynb",
   "output_path": "__notebook__.ipynb",
   "parameters": {},
   "start_time": "2024-07-21T18:45:05.996132",
   "version": "2.5.0"
  }
 },
 "nbformat": 4,
 "nbformat_minor": 5
}
