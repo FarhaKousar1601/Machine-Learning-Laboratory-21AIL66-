{
 "cells": [
  {
   "cell_type": "markdown",
   "id": "c0effbc9",
   "metadata": {
    "papermill": {
     "duration": 0.002405,
     "end_time": "2024-07-21T16:53:04.583449",
     "exception": false,
     "start_time": "2024-07-21T16:53:04.581044",
     "status": "completed"
    },
    "tags": []
   },
   "source": [
    "**4)Aim: To understand the working principle of Artificial Neural network with feed forward and feed backward principle. Program: Build an Artificial Neural Network by implementing the Backpropagation algorithm and test the same using appropriate data sets**"
   ]
  },
  {
   "cell_type": "code",
   "execution_count": 1,
   "id": "f5fac3af",
   "metadata": {
    "execution": {
     "iopub.execute_input": "2024-07-21T16:53:04.589615Z",
     "iopub.status.busy": "2024-07-21T16:53:04.589176Z",
     "iopub.status.idle": "2024-07-21T16:53:09.662257Z",
     "shell.execute_reply": "2024-07-21T16:53:09.660775Z"
    },
    "papermill": {
     "duration": 5.079468,
     "end_time": "2024-07-21T16:53:09.665049",
     "exception": false,
     "start_time": "2024-07-21T16:53:04.585581",
     "status": "completed"
    },
    "tags": []
   },
   "outputs": [
    {
     "name": "stdout",
     "output_type": "stream",
     "text": [
      "Epoch: 0, Loss: 0.2949\n",
      "Epoch: 1000, Loss: 0.5025\n",
      "Epoch: 2000, Loss: 0.5025\n",
      "Epoch: 3000, Loss: 0.5025\n",
      "Epoch: 4000, Loss: 0.5025\n",
      "Epoch: 5000, Loss: 0.5025\n",
      "Epoch: 6000, Loss: 0.5025\n",
      "Epoch: 7000, Loss: 0.5025\n",
      "Epoch: 8000, Loss: 0.5025\n",
      "Epoch: 9000, Loss: 0.5025\n",
      "Accuracy: 51.00%\n"
     ]
    }
   ],
   "source": [
    "import numpy as np\n",
    "from sklearn.model_selection import train_test_split\n",
    "from sklearn.datasets import make_moons\n",
    "from sklearn.preprocessing import OneHotEncoder\n",
    "\n",
    "# Activation function and its derivative\n",
    "sigmoid = lambda x: 1 / (1 + np.exp(-x))\n",
    "sigmoid_derivative = lambda x: x * (1 - x)\n",
    "\n",
    "# ANN class\n",
    "class NeuralNetwork:\n",
    "    def __init__(self, input_size, hidden_size, output_size):\n",
    "        self.W1 = np.random.randn(input_size, hidden_size)\n",
    "        self.b1 = np.zeros((1, hidden_size))\n",
    "        self.W2 = np.random.randn(hidden_size, output_size)\n",
    "        self.b2 = np.zeros((1, output_size))\n",
    "\n",
    "    def forward(self, X):\n",
    "        self.a1 = sigmoid(np.dot(X, self.W1) + self.b1)\n",
    "        self.a2 = sigmoid(np.dot(self.a1, self.W2) + self.b2)\n",
    "        return self.a2\n",
    "\n",
    "    def backward(self, X, y, output):\n",
    "        d_output = (y - output) * sigmoid_derivative(output)\n",
    "        d_hidden = d_output.dot(self.W2.T) * sigmoid_derivative(self.a1)\n",
    "\n",
    "        self.W2 += self.a1.T.dot(d_output)\n",
    "        self.b2 += np.sum(d_output, axis=0, keepdims=True)\n",
    "        self.W1 += X.T.dot(d_hidden)\n",
    "        self.b1 += np.sum(d_hidden, axis=0, keepdims=True)\n",
    "\n",
    "    def train(self, X, y, epochs=10000):\n",
    "        for epoch in range(epochs):\n",
    "            output = self.forward(X)\n",
    "            self.backward(X, y, output)\n",
    "            if epoch % 1000 == 0:\n",
    "                loss = np.mean(np.square(y - output))\n",
    "                print(f'Epoch: {epoch}, Loss: {loss:.4f}')\n",
    "\n",
    "# Create and preprocess dataset\n",
    "X, y = make_moons(n_samples=1000, noise=0.2)\n",
    "y = OneHotEncoder().fit_transform(y.reshape(-1, 1)).toarray()\n",
    "X_train, X_test, y_train, y_test = train_test_split(X, y, test_size=0.2)\n",
    "\n",
    "# Initialize and train network\n",
    "nn = NeuralNetwork(X_train.shape[1], 10, y_train.shape[1])\n",
    "nn.train(X_train, y_train)\n",
    "\n",
    "# Test network\n",
    "output = nn.forward(X_test)\n",
    "predictions = np.argmax(output, axis=1)\n",
    "accuracy = np.mean(predictions == np.argmax(y_test, axis=1))\n",
    "print(f'Accuracy: {accuracy * 100:.2f}%')\n"
   ]
  }
 ],
 "metadata": {
  "kaggle": {
   "accelerator": "none",
   "dataSources": [],
   "dockerImageVersionId": 30746,
   "isGpuEnabled": false,
   "isInternetEnabled": true,
   "language": "python",
   "sourceType": "notebook"
  },
  "kernelspec": {
   "display_name": "Python 3",
   "language": "python",
   "name": "python3"
  },
  "language_info": {
   "codemirror_mode": {
    "name": "ipython",
    "version": 3
   },
   "file_extension": ".py",
   "mimetype": "text/x-python",
   "name": "python",
   "nbconvert_exporter": "python",
   "pygments_lexer": "ipython3",
   "version": "3.10.13"
  },
  "papermill": {
   "default_parameters": {},
   "duration": 9.037337,
   "end_time": "2024-07-21T16:53:10.191528",
   "environment_variables": {},
   "exception": null,
   "input_path": "__notebook__.ipynb",
   "output_path": "__notebook__.ipynb",
   "parameters": {},
   "start_time": "2024-07-21T16:53:01.154191",
   "version": "2.5.0"
  }
 },
 "nbformat": 4,
 "nbformat_minor": 5
}
