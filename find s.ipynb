{
 "cells": [
  {
   "cell_type": "code",
   "execution_count": 1,
   "id": "88a645af",
   "metadata": {
    "_cell_guid": "b1076dfc-b9ad-4769-8c92-a6c4dae69d19",
    "_uuid": "8f2839f25d086af736a60e9eeb907d3b93b6e0e5",
    "execution": {
     "iopub.execute_input": "2024-08-01T08:08:53.509685Z",
     "iopub.status.busy": "2024-08-01T08:08:53.509240Z",
     "iopub.status.idle": "2024-08-01T08:08:53.536356Z",
     "shell.execute_reply": "2024-08-01T08:08:53.534886Z"
    },
    "papermill": {
     "duration": 0.033489,
     "end_time": "2024-08-01T08:08:53.538819",
     "exception": false,
     "start_time": "2024-08-01T08:08:53.505330",
     "status": "completed"
    },
    "tags": []
   },
   "outputs": [
    {
     "name": "stdout",
     "output_type": "stream",
     "text": [
      "['sunny', 'warm', 'normal', 'strong', 'warm', 'same', 'yes']\n",
      "['sunny', 'warm', 'high', 'strong', 'warm', 'same', 'yes']\n",
      "['rainy', 'cold', 'high', 'strong', 'warm', 'change', 'no']\n",
      "['sunny', 'warm', 'high', 'strong', 'cool', 'change', 'yes']\n",
      "\n",
      "\n",
      "The Maximally specific hypothesis for training instances is ['sunny', 'warm', '?', 'strong', '?', '?']\n"
     ]
    }
   ],
   "source": [
    "import csv \n",
    "with open('/kaggle/input/enjoysport-csv/enjoysport.csv','r') as file:\n",
    "    data = [row for row in csv.reader(file)]\n",
    "    #print(\"The total number of training instances are:\",\n",
    "\n",
    "    for row in data[1:]:\n",
    "        print(row)\n",
    "    print()\n",
    "num_attribute = len(data[0])-1\n",
    "hypothesis = ['0']*num_attribute\n",
    "\n",
    "for i in range(0,len(data)):\n",
    "    if data[i][num_attribute ] == 'yes':\n",
    "        for j in range(0,num_attribute):\n",
    "            if hypothesis[j] == '0' or hypothesis[j] == data[i][j]:\n",
    "                hypothesis[j] = data[i][j]\n",
    "            else:\n",
    "                hypothesis[j] = '?'\n",
    "print(\"\\nThe Maximally specific hypothesis for training instances is\",hypothesis)"
   ]
  }
 ],
 "metadata": {
  "kaggle": {
   "accelerator": "none",
   "dataSources": [
    {
     "datasetId": 5477690,
     "sourceId": 9079671,
     "sourceType": "datasetVersion"
    }
   ],
   "dockerImageVersionId": 30746,
   "isGpuEnabled": false,
   "isInternetEnabled": true,
   "language": "python",
   "sourceType": "notebook"
  },
  "kernelspec": {
   "display_name": "Python 3",
   "language": "python",
   "name": "python3"
  },
  "language_info": {
   "codemirror_mode": {
    "name": "ipython",
    "version": 3
   },
   "file_extension": ".py",
   "mimetype": "text/x-python",
   "name": "python",
   "nbconvert_exporter": "python",
   "pygments_lexer": "ipython3",
   "version": "3.10.13"
  },
  "papermill": {
   "default_parameters": {},
   "duration": 3.602061,
   "end_time": "2024-08-01T08:08:53.961764",
   "environment_variables": {},
   "exception": null,
   "input_path": "__notebook__.ipynb",
   "output_path": "__notebook__.ipynb",
   "parameters": {},
   "start_time": "2024-08-01T08:08:50.359703",
   "version": "2.5.0"
  }
 },
 "nbformat": 4,
 "nbformat_minor": 5
}
